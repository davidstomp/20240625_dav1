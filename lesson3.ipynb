{
 "cells": [
  {
   "cell_type": "code",
   "execution_count": 17,
   "metadata": {},
   "outputs": [
    {
     "name": "stdout",
     "output_type": "stream",
     "text": [
      "對邊:20.0,斜邊:40.0,角度:30.0\n"
     ]
    }
   ],
   "source": [
    "import math\n",
    "a=float(input(\"對邊\"))\n",
    "c=float(input(\"斜邊\"))\n",
    "x=math.asin(a/c)\n",
    "degree=math.degrees(x)\n",
    "print(f\"對邊:{a},斜邊:{c},角度:{round(degree,ndigits=2)}\")\n",
    "#ans=math.asin(x)\n",
    "#ans"
   ]
  }
 ],
 "metadata": {
  "kernelspec": {
   "display_name": "Python 3",
   "language": "python",
   "name": "python3"
  },
  "language_info": {
   "codemirror_mode": {
    "name": "ipython",
    "version": 3
   },
   "file_extension": ".py",
   "mimetype": "text/x-python",
   "name": "python",
   "nbconvert_exporter": "python",
   "pygments_lexer": "ipython3",
   "version": "3.12.3"
  }
 },
 "nbformat": 4,
 "nbformat_minor": 2
}
